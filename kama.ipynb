{
 "cells": [
  {
   "cell_type": "code",
   "execution_count": 1,
   "metadata": {},
   "outputs": [
    {
     "name": "stderr",
     "output_type": "stream",
     "text": [
      "d:\\PROGRAMMING\\anaconda\\lib\\site-packages\\numpy\\_distributor_init.py:30: UserWarning: loaded more than 1 DLL from .libs:\n",
      "d:\\PROGRAMMING\\anaconda\\lib\\site-packages\\numpy\\.libs\\libopenblas.FB5AE2TYXYH2IJRDKGDGQ3XBKLKTF43H.gfortran-win_amd64.dll\n",
      "d:\\PROGRAMMING\\anaconda\\lib\\site-packages\\numpy\\.libs\\libopenblas.WCDJNK7YVMPZQ2ME2ZZHJJRJ3JIKNDB7.gfortran-win_amd64.dll\n",
      "d:\\PROGRAMMING\\anaconda\\lib\\site-packages\\numpy\\.libs\\libopenblas64__v0.3.21-gcc_10_3_0.dll\n",
      "  warnings.warn(\"loaded more than 1 DLL from .libs:\"\n"
     ]
    }
   ],
   "source": [
    "import datetime\n",
    "import pytz\n",
    "import pandas as pd\n",
    "import MetaTrader5 as mt5\n",
    "import numpy as np\n",
    "import matplotlib.pyplot as plt\n",
    "%matplotlib inline"
   ]
  },
  {
   "cell_type": "code",
   "execution_count": 2,
   "metadata": {},
   "outputs": [],
   "source": [
    "#define assets\n",
    "assets = ['EURUSD' ,'USDCHF' ,'GBPUSD' ,'USDCAD' ,'BTCUSD' ,'ETHUSD' ,'XAUUSD' ,'XAUSD' ,'SP500m','UK100']"
   ]
  },
  {
   "cell_type": "code",
   "execution_count": 3,
   "metadata": {},
   "outputs": [],
   "source": [
    "frame15 = mt5.TIMEFRAME_M15\n",
    "frame30 = mt5.TIMEFRAME_M30\n",
    "frame1h = mt5.TIMEFRAME_H1\n",
    "frame_d1 = mt5.TIMEFRAME_D1"
   ]
  },
  {
   "cell_type": "code",
   "execution_count": 4,
   "metadata": {},
   "outputs": [
    {
     "name": "stdout",
     "output_type": "stream",
     "text": [
      "None\n"
     ]
    }
   ],
   "source": [
    "timezone = pytz.timezone(\"Europe/Paris\")\n",
    "time_from = datetime.datetime(2013,2,2,tzinfo=timezone)\n",
    "time_to = datetime.datetime(2024,6,24,tzinfo=timezone)\n",
    "\n",
    "print(mt5.copy_rates_range('EURUSD', mt5.TIMEFRAME_H1, time_from,time_to))\n",
    "\n"
   ]
  },
  {
   "cell_type": "code",
   "execution_count": 5,
   "metadata": {},
   "outputs": [],
   "source": [
    "def get_assetsquotes(time_frame,year,month,day,asset):\n",
    "    if not mt5.initialize():\n",
    "        print(\"Initialize failed error code =\",mt5.last_error())\n",
    "        quit()\n",
    "    timezone = pytz.timezone(\"Europe/Paris\")\n",
    "    time_from = datetime.datetime(year,month,day,tzinfo=timezone)\n",
    "    time_to = datetime.datetime.now(timezone)+datetime.timedelta(days=1)\n",
    "    rates = mt5.copy_rates_range(asset, time_frame, time_from,time_to)\n",
    "    rates_frame = pd.DataFrame(rates)\n",
    "    return rates_frame\n",
    "\n",
    "def mass_import(asset,time_frame):\n",
    "    if time_frame == 'H1':\n",
    "        data = get_assetsquotes(frame1h,2013,2,2,assets[asset])\n",
    "        data.iloc[:, 1:5].values\n",
    "        data.round(decimals = 5)\n",
    "\n",
    "    if time_frame == 'D1':\n",
    "        data = get_assetsquotes(frame_d1,2000,1,1,asset = assets[asset])\n",
    "        data.iloc[:, 1:5].values\n",
    "        data.round(decimals = 5)\n",
    "    return data"
   ]
  },
  {
   "cell_type": "code",
   "execution_count": 6,
   "metadata": {},
   "outputs": [
    {
     "name": "stdout",
     "output_type": "stream",
     "text": [
      "Empty DataFrame\n",
      "Columns: []\n",
      "Index: []\n"
     ]
    }
   ],
   "source": [
    "#Kaufman Adaptive moving average\n",
    "df = mass_import(0,'H1')\n",
    "\n",
    "print(df)"
   ]
  },
  {
   "cell_type": "code",
   "execution_count": 7,
   "metadata": {},
   "outputs": [
    {
     "data": {
      "text/plain": [
       "'This sets the lookback period for the KAMA calculation, determining the number of periods over which the indicator will be calculated.'"
      ]
     },
     "execution_count": 7,
     "metadata": {},
     "output_type": "execute_result"
    }
   ],
   "source": [
    "lookback = 100\n",
    "'''This sets the lookback period for the KAMA calculation, determining the number of periods over which the indicator will be calculated.'''"
   ]
  },
  {
   "cell_type": "code",
   "execution_count": 8,
   "metadata": {},
   "outputs": [],
   "source": [
    "def add_column(data,times):\n",
    "    for i in range(1,times+1):\n",
    "        new = np.zeros((len(data),1),dtype=float)\n",
    "        data = np.append(data,new,axis=1)\n",
    "    return data"
   ]
  },
  {
   "cell_type": "code",
   "execution_count": 9,
   "metadata": {},
   "outputs": [],
   "source": [
    "def delete_column(data, index, times):\n",
    "    for i in range(1, times + 1):\n",
    "        data = np.delete(data, index, axis = 1)\n",
    "    return data"
   ]
  },
  {
   "cell_type": "code",
   "execution_count": 10,
   "metadata": {},
   "outputs": [],
   "source": [
    "\n",
    "def ohlc_plot_bars(Data, window):\n",
    "     \n",
    "    Chosen = Data[-window:, ]\n",
    "    \n",
    "    for i in range(len(Chosen)):\n",
    "        \n",
    "        plt.vlines(x = i, ymin = Chosen[i, 2], ymax = Chosen[i, 1], color = 'black', linewidth = 1)  \n",
    "        plt.vlines(x = i, ymin = Chosen[i, 2], ymax = Chosen[i, 1], color = 'black', linewidth = 1)\n",
    "        \n",
    "        if Chosen[i, 3] > Chosen[i, 0]:\n",
    "            plt.vlines(x = i, ymin = Chosen[i, 0], ymax = Chosen[i, 3], color = 'black', linewidth = 1.00)  \n",
    "\n",
    "        if Chosen[i, 3] < Chosen[i, 0]:\n",
    "            plt.vlines(x = i, ymin = Chosen[i, 3], ymax = Chosen[i, 0], color = 'black', linewidth = 1.00)  \n",
    "            \n",
    "        if Chosen[i, 3] == Chosen[i, 0]:\n",
    "            plt.vlines(x = i, ymin = Chosen[i, 3], ymax = Chosen[i, 0], color = 'black', linewidth = 1.00)  \n",
    "            \n",
    "    plt.grid() "
   ]
  },
  {
   "cell_type": "code",
   "execution_count": 11,
   "metadata": {},
   "outputs": [],
   "source": [
    "   \n",
    "def jump(Data, jump):\n",
    "    \n",
    "    Data = Data[jump:, ]\n",
    "    \n",
    "    return Data"
   ]
  },
  {
   "cell_type": "code",
   "execution_count": 12,
   "metadata": {},
   "outputs": [],
   "source": [
    "def kama(Data, what, where, lookback):\n",
    "    _\n",
    "    Data = add_column(Data, 10)\n",
    "    \n",
    "    # lookback from previous period\n",
    "    for i in range(len(Data)):\n",
    "        Data[i, where] = abs(Data[i, what] - Data[i - 1, what])\n",
    "    \n",
    "    Data[0, where] = 0\n",
    "    \n",
    "    # Sum of lookbacks\n",
    "    for i in range(len(Data)):\n",
    "        Data[i, where + 1] = (Data[i - lookback + 1:i + 1, where].sum())   \n",
    "        \n",
    "    # Volatility    \n",
    "    for i in range(len(Data)):\n",
    "        Data[i, where + 2] = abs(Data[i, what] - Data[i - lookback, what])\n",
    "        \n",
    "    Data = Data[lookback + 1:, ]\n",
    "    \n",
    "    # Efficiency Ratio\n",
    "    Data[:, where + 3] = Data[:, where + 2] / Data[:, where + 1]\n",
    "    \n",
    "    for i in range(len(Data)):\n",
    "        Data[i, where + 4] = np.square(Data[i, where + 3] * 0.6666666666666666667)\n",
    "\n",
    "    #kama    \n",
    "    for i in range(len(Data)):\n",
    "        Data[i, where + 5] = Data[i - 1, where + 5] + (Data[i, where + 4] * (Data[i, what] - Data[i - 1, where + 5]))\n",
    "        Data[11, where + 5] = 0\n",
    "        \n",
    "    #Data = delete_column(Data, 10, 7)\n",
    "    #Data = delete_column(Data, 0, 1)\n",
    "    Data = jump(Data, lookback * 2)\n",
    "    \n",
    "    return Data\n"
   ]
  },
  {
   "cell_type": "code",
   "execution_count": 13,
   "metadata": {},
   "outputs": [
    {
     "ename": "IndexError",
     "evalue": "index 5 is out of bounds for axis 1 with size 0",
     "output_type": "error",
     "traceback": [
      "\u001b[1;31m---------------------------------------------------------------------------\u001b[0m",
      "\u001b[1;31mIndexError\u001b[0m                                Traceback (most recent call last)",
      "Cell \u001b[1;32mIn[13], line 1\u001b[0m\n\u001b[1;32m----> 1\u001b[0m my_data1 \u001b[38;5;241m=\u001b[39m \u001b[43mdelete_column\u001b[49m\u001b[43m(\u001b[49m\u001b[43mdf\u001b[49m\u001b[43m,\u001b[49m\u001b[43m \u001b[49m\u001b[38;5;241;43m5\u001b[39;49m\u001b[43m,\u001b[49m\u001b[43m \u001b[49m\u001b[38;5;241;43m3\u001b[39;49m\u001b[43m)\u001b[49m\n\u001b[0;32m      2\u001b[0m my_data1 \u001b[38;5;241m=\u001b[39m delete_column(my_data1,\u001b[38;5;241m0\u001b[39m,\u001b[38;5;241m1\u001b[39m)\n",
      "Cell \u001b[1;32mIn[9], line 3\u001b[0m, in \u001b[0;36mdelete_column\u001b[1;34m(data, index, times)\u001b[0m\n\u001b[0;32m      1\u001b[0m \u001b[38;5;28;01mdef\u001b[39;00m \u001b[38;5;21mdelete_column\u001b[39m(data, index, times):\n\u001b[0;32m      2\u001b[0m     \u001b[38;5;28;01mfor\u001b[39;00m i \u001b[38;5;129;01min\u001b[39;00m \u001b[38;5;28mrange\u001b[39m(\u001b[38;5;241m1\u001b[39m, times \u001b[38;5;241m+\u001b[39m \u001b[38;5;241m1\u001b[39m):\n\u001b[1;32m----> 3\u001b[0m         data \u001b[38;5;241m=\u001b[39m \u001b[43mnp\u001b[49m\u001b[38;5;241;43m.\u001b[39;49m\u001b[43mdelete\u001b[49m\u001b[43m(\u001b[49m\u001b[43mdata\u001b[49m\u001b[43m,\u001b[49m\u001b[43m \u001b[49m\u001b[43mindex\u001b[49m\u001b[43m,\u001b[49m\u001b[43m \u001b[49m\u001b[43maxis\u001b[49m\u001b[43m \u001b[49m\u001b[38;5;241;43m=\u001b[39;49m\u001b[43m \u001b[49m\u001b[38;5;241;43m1\u001b[39;49m\u001b[43m)\u001b[49m\n\u001b[0;32m      4\u001b[0m     \u001b[38;5;28;01mreturn\u001b[39;00m data\n",
      "File \u001b[1;32m<__array_function__ internals>:180\u001b[0m, in \u001b[0;36mdelete\u001b[1;34m(*args, **kwargs)\u001b[0m\n",
      "File \u001b[1;32md:\\PROGRAMMING\\anaconda\\lib\\site-packages\\numpy\\lib\\function_base.py:5156\u001b[0m, in \u001b[0;36mdelete\u001b[1;34m(arr, obj, axis)\u001b[0m\n\u001b[0;32m   5153\u001b[0m \u001b[38;5;28;01mif\u001b[39;00m single_value:\n\u001b[0;32m   5154\u001b[0m     \u001b[38;5;66;03m# optimization for a single value\u001b[39;00m\n\u001b[0;32m   5155\u001b[0m     \u001b[38;5;28;01mif\u001b[39;00m (obj \u001b[38;5;241m<\u001b[39m \u001b[38;5;241m-\u001b[39mN \u001b[38;5;129;01mor\u001b[39;00m obj \u001b[38;5;241m>\u001b[39m\u001b[38;5;241m=\u001b[39m N):\n\u001b[1;32m-> 5156\u001b[0m         \u001b[38;5;28;01mraise\u001b[39;00m \u001b[38;5;167;01mIndexError\u001b[39;00m(\n\u001b[0;32m   5157\u001b[0m             \u001b[38;5;124m\"\u001b[39m\u001b[38;5;124mindex \u001b[39m\u001b[38;5;132;01m%i\u001b[39;00m\u001b[38;5;124m is out of bounds for axis \u001b[39m\u001b[38;5;132;01m%i\u001b[39;00m\u001b[38;5;124m with \u001b[39m\u001b[38;5;124m\"\u001b[39m\n\u001b[0;32m   5158\u001b[0m             \u001b[38;5;124m\"\u001b[39m\u001b[38;5;124msize \u001b[39m\u001b[38;5;132;01m%i\u001b[39;00m\u001b[38;5;124m\"\u001b[39m \u001b[38;5;241m%\u001b[39m (obj, axis, N))\n\u001b[0;32m   5159\u001b[0m     \u001b[38;5;28;01mif\u001b[39;00m (obj \u001b[38;5;241m<\u001b[39m \u001b[38;5;241m0\u001b[39m):\n\u001b[0;32m   5160\u001b[0m         obj \u001b[38;5;241m+\u001b[39m\u001b[38;5;241m=\u001b[39m N\n",
      "\u001b[1;31mIndexError\u001b[0m: index 5 is out of bounds for axis 1 with size 0"
     ]
    }
   ],
   "source": [
    "my_data1 = delete_column(df, 5, 3)\n",
    "my_data1 = delete_column(my_data1,0,1)"
   ]
  },
  {
   "cell_type": "code",
   "execution_count": null,
   "metadata": {},
   "outputs": [],
   "source": [
    "my_data2 = kama(df,3,4,lookback=lookback)"
   ]
  },
  {
   "cell_type": "code",
   "execution_count": null,
   "metadata": {},
   "outputs": [],
   "source": [
    "kama=my_data2[:,9]"
   ]
  },
  {
   "cell_type": "code",
   "execution_count": null,
   "metadata": {},
   "outputs": [
    {
     "data": {
      "text/plain": [
       "array([[1.36488, 1.36532, 1.36435, 1.36448],\n",
       "       [1.36447, 1.36478, 1.36388, 1.3643 ],\n",
       "       [1.36435, 1.36443, 1.36247, 1.36247],\n",
       "       ...,\n",
       "       [1.07022, 1.07033, 1.06908, 1.07007],\n",
       "       [1.07006, 1.07093, 1.07006, 1.07038],\n",
       "       [1.07039, 1.07043, 1.07036, 1.07036]])"
      ]
     },
     "execution_count": 75,
     "metadata": {},
     "output_type": "execute_result"
    }
   ],
   "source": [
    "my_data1"
   ]
  },
  {
   "cell_type": "code",
   "execution_count": null,
   "metadata": {},
   "outputs": [
    {
     "data": {
      "text/plain": [
       "<matplotlib.legend.Legend at 0x204286981c0>"
      ]
     },
     "execution_count": 105,
     "metadata": {},
     "output_type": "execute_result"
    },
    {
     "data": {
      "image/png": "[encoded data removed]",
      "text/plain": [
       "<Figure size 640x480 with 1 Axes>"
      ]
     },
     "metadata": {},
     "output_type": "display_data"
    }
   ],
   "source": [
    "ohlc_plot_bars(my_data1, 500)\n",
    "plt.plot(my_data2[-500:,9], label = '100-period Kauffman Adaptive Moving Average')\n",
    "plt.legend()\n"
   ]
  },
  {
   "cell_type": "markdown",
   "metadata": {},
   "source": [
    "KAMA, or Kaufman's Adaptive Moving Average, is a technical analysis indicator designed to account for market noise and volatility. It was developed by Perry J. Kaufman and is known for its ability to adapt to changing market conditions. Unlike traditional moving averages, KAMA adjusts its speed based on the volatility of the market, becoming more sensitive during trends and less sensitive during sideways or choppy markets.\n",
    "\n",
    "### Uses of KAMA\n",
    "\n",
    "1. **Trend Identification:**\n",
    "   - **Bullish Trend:** When the price is above the KAMA line, it indicates a bullish trend.\n",
    "   - **Bearish Trend:** When the price is below the KAMA line, it indicates a bearish trend.\n",
    "\n",
    "2. **Entry and Exit Signals:**\n",
    "   - **Buy Signal:** When the price crosses above the KAMA line, it may signal a buying opportunity.\n",
    "   - **Sell Signal:** When the price crosses below the KAMA line, it may signal a selling opportunity.\n",
    "\n",
    "3. **Noise Filtering:**\n",
    "   - KAMA filters out market noise and short-term fluctuations, allowing traders to focus on the underlying trend.\n",
    "\n",
    "4. **Volatility Adjustment:**\n",
    "   - KAMA adjusts its sensitivity based on market volatility. In highly volatile markets, it becomes smoother, while in less volatile markets, it becomes more sensitive.\n",
    "\n",
    "### How KAMA Works\n",
    "\n",
    "The KAMA calculation involves several steps:\n",
    "\n",
    "1. **Efficiency Ratio (ER):**\n",
    "   - ER measures the efficiency of price movement. It is calculated by dividing the absolute price change over a specified period by the sum of the absolute price changes of each bar within that period.\n",
    "   - Formula: \\( ER = \\frac{\\text{Price Change over N periods}}{\\text{Sum of absolute Price Changes for each bar over N periods}} \\)\n",
    "\n",
    "2. **Smoothing Constant (SC):**\n",
    "   - SC is derived from the ER and determines the weighting of the current price. It is scaled to a range between a minimum (slowest) and maximum (fastest) smoothing constant.\n",
    "   - Formula: \\( SC = (ER \\times (\\text{Fast SC} - \\text{Slow SC}) + \\text{Slow SC})^2 \\)\n",
    "   - Typical values are 2 / (N+1) for fast SC (e.g., 2 / (2+1) for 2 periods) and 2 / (N+1) for slow SC (e.g., 2 / (30+1) for 30 periods).\n",
    "\n",
    "3. **KAMA Calculation:**\n",
    "   - The KAMA value is updated iteratively using the previous KAMA value and the current price weighted by the smoothing constant.\n",
    "   - Formula: \\( KAMA_{t} = KAMA_{t-1} + SC \\times (Price_t - KAMA_{t-1}) \\)\n",
    "\n",
    "### Example Code Explanation\n",
    "\n",
    "Here's the provided KAMA function code with explanations:\n",
    "\n",
    "```python\n",
    "import numpy as np\n",
    "\n",
    "def kama(Data, what, where, lookback):\n",
    "    # Adding columns for intermediate calculations\n",
    "    Data = adder(Data, 10)\n",
    "    \n",
    "    # Calculate the absolute price change from the previous period\n",
    "    for i in range(len(Data)):\n",
    "        Data[i, where] = abs(Data[i, what] - Data[i - 1, what])\n",
    "    \n",
    "    Data[0, where] = 0  # Initialize the first value to 0\n",
    "    \n",
    "    # Sum of lookbacks (volatility measure)\n",
    "    for i in range(len(Data)):\n",
    "        Data[i, where + 1] = Data[i - lookback + 1:i + 1, where].sum()\n",
    "    \n",
    "    # Calculate the price change over the lookback period\n",
    "    for i in range(len(Data)):\n",
    "        Data[i, where + 2] = abs(Data[i, what] - Data[i - lookback, what])\n",
    "    \n",
    "    Data = Data[lookback + 1:, ]  # Remove initial periods to avoid NaN values\n",
    "    \n",
    "    # Efficiency Ratio (ER)\n",
    "    Data[:, where + 3] = Data[:, where + 2] / Data[:, where + 1]\n",
    "    \n",
    "    # Calculate the smoothing constant (SC)\n",
    "    for i in range(len(Data)):\n",
    "        Data[i, where + 4] = np.square(Data[i, where + 3] * 0.6666666666666666667)\n",
    "    \n",
    "    # Calculate the KAMA value\n",
    "    for i in range(len(Data)):\n",
    "        Data[i, where + 5] = Data[i - 1, where + 5] + (Data[i, where + 4] * (Data[i, what] - Data[i - 1, where + 5]))\n",
    "        Data[11, where + 5] = 0  # Initialize first value of KAMA to 0\n",
    "    \n",
    "    # Remove intermediate columns used for calculation\n",
    "    Data = deleter(Data, where, 5)\n",
    "    Data = jump(Data, lookback * 2)\n",
    "    \n",
    "    return Data\n",
    "```\n",
    "\n",
    "### Function Explanation\n",
    "\n",
    "1. **adder(Data, 10):**\n",
    "   - Adds 10 columns to the Data array for intermediate calculations.\n",
    "\n",
    "2. **Absolute Price Change Calculation:**\n",
    "   - Calculates the absolute price change from the previous period for the entire dataset.\n",
    "\n",
    "3. **Sum of Lookbacks:**\n",
    "   - Sums the absolute price changes over the lookback period to measure volatility.\n",
    "\n",
    "4. **Price Change Over Lookback Period:**\n",
    "   - Calculates the absolute price change over the entire lookback period.\n",
    "\n",
    "5. **Efficiency Ratio (ER):**\n",
    "   - ER is calculated as the ratio of the lookback period price change to the sum of absolute price changes.\n",
    "\n",
    "6. **Smoothing Constant (SC):**\n",
    "   - SC is calculated based on the ER.\n",
    "\n",
    "7. **KAMA Calculation:**\n",
    "   - KAMA is updated iteratively using the previous KAMA value and the current price weighted by the smoothing constant.\n",
    "\n",
    "8. **Remove Intermediate Columns:**\n",
    "   - Deletes the intermediate columns used for calculations and retains the final KAMA values.\n",
    "\n",
    "9. **Jump Function:**\n",
    "   - The `jump` function is likely used to skip initial rows to avoid NaN or unstable initial values.\n",
    "\n",
    "### Visualization\n",
    "The function `ohlc_plot_bars` is used to visualize the OHLC data along with the calculated KAMA.\n",
    "\n",
    "```python\n",
    "ohlc_plot_bars(my_data, 500)\n",
    "plt.plot(my_data[-500:, 4], label='100-period Adaptive Moving Average')\n",
    "plt.legend()\n",
    "plt.show()\n",
    "```\n",
    "\n",
    "This will plot the OHLC data along with the 100-period Adaptive Moving Average, providing a clear visual representation of the KAMA indicator in action."
   ]
  },
  {
   "cell_type": "markdown",
   "metadata": {},
   "source": [
    "### Comprehensive Tutorial: Implementing and Understanding KAMA (Kaufman's Adaptive Moving Average)\n",
    "\n",
    "This tutorial will guide you through the process of implementing the KAMA (Kaufman's Adaptive Moving Average) using Python. We'll break down each part of the provided code, explain its purpose, and demonstrate how it all fits together to create a functional trading indicator.\n",
    "\n",
    "#### Base Parameters\n",
    "\n",
    "```python\n",
    "# Base Parameters\n",
    "assets = asset_list('FX') \n",
    "\n",
    "# Trading Parameters   \n",
    "horizon = 'H1'\n",
    "pair    = 0\n",
    "\n",
    "# Mass Imports \n",
    "my_data = mass_import(pair, horizon)\n",
    "```\n",
    "\n",
    "**Explanation:**\n",
    "- `assets = asset_list('FX')`: This function retrieves a list of assets from the Foreign Exchange (FX) market.\n",
    "- `horizon = 'H1'`: This sets the trading time frame to hourly data.\n",
    "- `pair = 0`: This specifies the asset pair to be used (in this case, the first asset in the list).\n",
    "- `my_data = mass_import(pair, horizon)`: This imports the historical data for the specified asset pair and time frame.\n",
    "\n",
    "#### Indicator Parameters\n",
    "\n",
    "```python\n",
    "# Indicator Parameters\n",
    "lookback = 100\n",
    "```\n",
    "\n",
    "**Explanation:**\n",
    "- `lookback = 100`: This sets the lookback period for the KAMA calculation, determining the number of periods over which the indicator will be calculated.\n",
    "\n",
    "#### KAMA Function\n",
    "\n",
    "```python\n",
    "def kama(Data, what, where, lookback):\n",
    "    \n",
    "    Data = adder(Data, 10)\n",
    "    \n",
    "    # lookback from previous period\n",
    "    for i in range(len(Data)):\n",
    "        Data[i, where] = abs(Data[i, what] - Data[i - 1, what])\n",
    "    \n",
    "    Data[0, where] = 0\n",
    "    \n",
    "    # Sum of lookbacks\n",
    "    for i in range(len(Data)):\n",
    "        Data[i, where + 1] = (Data[i - lookback + 1:i + 1, where].sum())   \n",
    "        \n",
    "    # Volatility    \n",
    "    for i in range(len(Data)):\n",
    "        Data[i, where + 2] = abs(Data[i, what] - Data[i - lookback, what])\n",
    "        \n",
    "    Data = Data[lookback + 1:, ]\n",
    "    \n",
    "    # Efficiency Ratio\n",
    "    Data[:, where + 3] = Data[:, where + 2] / Data[:, where + 1]\n",
    "    \n",
    "    for i in range(len(Data)):\n",
    "        Data[i, where + 4] = np.square(Data[i, where + 3] * 0.6666666666666666667)\n",
    "        \n",
    "    for i in range(len(Data)):\n",
    "        Data[i, where + 5] = Data[i - 1, where + 5] + (Data[i, where + 4] * (Data[i, what] - Data[i - 1, where + 5]))\n",
    "        Data[11, where + 5] = 0\n",
    "        \n",
    "    Data = deleter(Data, where, 5)\n",
    "    Data = jump(Data, lookback * 2)\n",
    "    \n",
    "    return Data\n",
    "```\n",
    "\n",
    "**Explanation:**\n",
    "- `def kama(Data, what, where, lookback)`: This function calculates the KAMA indicator.\n",
    "- `Data = adder(Data, 10)`: Adds 10 additional columns to the data array to store intermediate calculation results.\n",
    "- `for i in range(len(Data))`: Loops through each row of the data array.\n",
    "  - `Data[i, where] = abs(Data[i, what] - Data[i - 1, what])`: Calculates the absolute difference between the current and previous values.\n",
    "  - `Data[0, where] = 0`: Initializes the first value to 0 to avoid referencing an out-of-bounds index.\n",
    "  - `Data[i, where + 1] = (Data[i - lookback + 1:i + 1, where].sum())`: Sums the lookback periods.\n",
    "  - `Data[i, where + 2] = abs(Data[i, what] - Data[i - lookback, what])`: Calculates volatility.\n",
    "  - `Data = Data[lookback + 1:, ]`: Trims the data array to remove initial rows with incomplete calculations.\n",
    "  - `Data[:, where + 3] = Data[:, where + 2] / Data[:, where + 1]`: Calculates the efficiency ratio.\n",
    "  - `Data[i, where + 4] = np.square(Data[i, where + 3] * 0.6666666666666666667)`: Squares the efficiency ratio scaled by a constant.\n",
    "  - `Data[i, where + 5] = Data[i - 1, where + 5] + (Data[i, where + 4] * (Data[i, what] - Data[i - 1, where + 5]))`: Calculates the KAMA.\n",
    "  - `Data[11, where + 5] = 0`: Initializes a specific value to 0 to avoid referencing an out-of-bounds index.\n",
    "- `Data = deleter(Data, where, 5)`: Deletes unnecessary columns.\n",
    "- `Data = jump(Data, lookback * 2)`: Trims the data array further to skip initial rows.\n",
    "- `return Data`: Returns the modified data array with the KAMA calculation.\n",
    "\n",
    "#### Applying the KAMA Function and Plotting the Results\n",
    "\n",
    "```python\n",
    "my_data = kama(my_data, 3, 4, lookback)\n",
    "\n",
    "ohlc_plot_bars(my_data, 500)\n",
    "plt.plot(my_data[-500:, 4], label = '100-period Adaptive Moving Average')\n",
    "plt.legend()\n",
    "```\n",
    "\n",
    "**Explanation:**\n",
    "- `my_data = kama(my_data, 3, 4, lookback)`: Applies the KAMA function to the historical data, specifying the input column (3), the output column (4), and the lookback period.\n",
    "- `ohlc_plot_bars(my_data, 500)`: Plots the last 500 data points as OHLC (Open, High, Low, Close) bars.\n",
    "- `plt.plot(my_data[-500:, 4], label = '100-period Adaptive Moving Average')`: Plots the KAMA values for the last 500 data points.\n",
    "- `plt.legend()`: Adds a legend to the plot.\n",
    "\n",
    "### Conclusion\n",
    "\n",
    "This tutorial has explained each part of the provided code, detailing its purpose and how it fits into the overall implementation of the KAMA indicator. By following these steps, you can apply the KAMA indicator to your own financial data and visualize the results to aid in your trading decisions."
   ]
  }
 ],
 "metadata": {
  "kernelspec": {
   "display_name": "base",
   "language": "python",
   "name": "python3"
  },
  "language_info": {
   "codemirror_mode": {
    "name": "ipython",
    "version": 3
   },
   "file_extension": ".py",
   "mimetype": "text/x-python",
   "name": "python",
   "nbconvert_exporter": "python",
   "pygments_lexer": "ipython3",
   "version": "3.8.13"
  },
  "orig_nbformat": 4
 },
 "nbformat": 4,
 "nbformat_minor": 2
}
